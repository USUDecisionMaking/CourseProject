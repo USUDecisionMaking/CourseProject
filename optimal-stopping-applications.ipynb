{
 "cells": [
  {
   "cell_type": "code",
   "execution_count": null,
   "metadata": {},
   "outputs": [],
   "source": [
    "import pandas as pd\n",
    "import numpy as np\n",
    "import matplotlib.pyplot as plt\n",
    "\n",
    "import utils\n",
    "\n",
    "from tqdm import tqdm\n",
    "import random"
   ]
  },
  {
   "cell_type": "code",
   "execution_count": null,
   "metadata": {},
   "outputs": [],
   "source": [
    "data = pd.read_csv(\"data/filtered-data.csv\")"
   ]
  },
  {
   "cell_type": "code",
   "execution_count": null,
   "metadata": {},
   "outputs": [],
   "source": [
    "def find_peak(array):\n",
    "    index = 0\n",
    "    max = 0\n",
    "\n",
    "    for i in range(len(array)):\n",
    "        if array[i] > max:\n",
    "            max = array[i]\n",
    "            index = i\n",
    "\n",
    "    return index, max"
   ]
  },
  {
   "cell_type": "code",
   "execution_count": null,
   "metadata": {},
   "outputs": [],
   "source": [
    "def get_response(probability):\n",
    "    if random.random() > probability:\n",
    "        return True\n",
    "    else:\n",
    "        return False"
   ]
  },
  {
   "cell_type": "code",
   "execution_count": null,
   "metadata": {},
   "outputs": [],
   "source": [
    "df = pd.read_csv('data/filtered-data.csv')\n",
    "\n",
    "NUM_CANDIDATES = 100    # number of universities\n",
    "NUM_EXPERIMENTS = 10  # constant number of experiments to run\n",
    "\n",
    "solution_found_count = [0 for _ in range(NUM_CANDIDATES)]\n",
    "optimal_solution_found_count = [0 for _ in range(NUM_CANDIDATES)]\n",
    "\n",
    "for _ in tqdm(range(NUM_EXPERIMENTS)):\n",
    "    candidates = [(college, utils.heuristic_function(college, data)[0]) for college in utils.COLLEGES] # get sample of 100 universities and their heuristic value\n",
    "    optimal_candidate = max(candidates, key=lambda x:x[1]) # optimal based on heuristic function\n",
    "    \n",
    "    for stopping_point in range(1, NUM_CANDIDATES):\n",
    "        for univ, heuristic_value in candidates[stopping_point:-1]:\n",
    "            if heuristic_value > max(candidates[0:stopping_point], key=lambda x:x[1])[1] and get_response(probability=utils.get_adm_rate(univ, data)):\n",
    "                solution_found_count[stopping_point] += 1\n",
    "                \n",
    "                if univ == optimal_candidate[0]:\n",
    "                    optimal_solution_found_count[stopping_point] += 1\n",
    "\n",
    "                break\n",
    "\n",
    "plt.plot(optimal_solution_found_count, label='Normal Optimal Solutions')\n",
    "plt.title(\"General Stopping Optimum Threshold\")\n",
    "plt.legend()\n",
    "plt.show()\n",
    "\n",
    "threshold = find_peak(optimal_solution_found_count)[0] / NUM_CANDIDATES"
   ]
  },
  {
   "cell_type": "code",
   "execution_count": null,
   "metadata": {},
   "outputs": [],
   "source": [
    "threshold"
   ]
  }
 ],
 "metadata": {
  "kernelspec": {
   "display_name": "venv",
   "language": "python",
   "name": "python3"
  },
  "language_info": {
   "codemirror_mode": {
    "name": "ipython",
    "version": 3
   },
   "file_extension": ".py",
   "mimetype": "text/x-python",
   "name": "python",
   "nbconvert_exporter": "python",
   "pygments_lexer": "ipython3",
   "version": "3.11.1"
  },
  "orig_nbformat": 4
 },
 "nbformat": 4,
 "nbformat_minor": 2
}
