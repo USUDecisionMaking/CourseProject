{
 "cells": [
  {
   "cell_type": "code",
   "execution_count": 1,
   "metadata": {},
   "outputs": [
    {
     "name": "stderr",
     "output_type": "stream",
     "text": [
      "c:\\Users\\hamar\\CS-5060\\Final Project\\CourseProject\\utils.py:3: DtypeWarning: Columns (10,41,45,247) have mixed types. Specify dtype option on import or set low_memory=False.\n",
      "  COLLEGES: list[str] = (data := pd.read_csv(f\"data/filtered-data.csv\")).groupby(\"INSTNM\").agg(\"mean\", numeric_only=True).reset_index()[[\"INSTNM\", \"COSTT4_A\",\"SAT_AVG\"]].copy().dropna(axis=\"rows\").sample(100, random_state=0)[\"INSTNM\"].unique()\n"
     ]
    }
   ],
   "source": [
    "import pandas as pd\n",
    "import numpy as np\n",
    "import matplotlib.pyplot as plt\n",
    "\n",
    "import utils\n",
    "\n",
    "from tqdm import tqdm\n",
    "from random import random"
   ]
  },
  {
   "cell_type": "code",
   "execution_count": 5,
   "metadata": {},
   "outputs": [
    {
     "data": {
      "text/plain": [
       "('Yale University', 78165.0)"
      ]
     },
     "execution_count": 5,
     "metadata": {},
     "output_type": "execute_result"
    }
   ],
   "source": [
    "candidates = [(univ, utils.heuristic_function(univ)[0]) for univ in utils.COLLEGES]\n",
    "max(candidates, key=lambda x:x[1])"
   ]
  },
  {
   "cell_type": "code",
   "execution_count": null,
   "metadata": {},
   "outputs": [],
   "source": [
    "def find_peak(array):\n",
    "    index = 0\n",
    "    max = 0\n",
    "\n",
    "    for i in range(len(array)):\n",
    "        if array[i] > max:\n",
    "            max = array[i]\n",
    "            index = i\n",
    "\n",
    "    return index, max"
   ]
  },
  {
   "cell_type": "code",
   "execution_count": null,
   "metadata": {},
   "outputs": [],
   "source": [
    "def get_response(probability):\n",
    "    if random.random() > probability:\n",
    "        return True\n",
    "    else:\n",
    "        return False"
   ]
  },
  {
   "cell_type": "code",
   "execution_count": null,
   "metadata": {},
   "outputs": [],
   "source": [
    "df = pd.read_csv('data/filtered-data.csv')\n",
    "\n",
    "NUM_CANDIDATES = 100    # number of universities\n",
    "NUM_EXPERIMENTS = 1000  # constant number of experiments to run\n",
    "\n",
    "solution_found_count = [0 for _ in range(NUM_CANDIDATES)]\n",
    "optimal_solution_found_count = [0 for _ in range(NUM_CANDIDATES)]\n",
    "\n",
    "for _ in tqdm(range(NUM_EXPERIMENTS)):\n",
    "    candidates = [(college, utils.heuristic_function(college)[0]) for college in utils.COLLEGES]\n",
    "    optimal_candidate = max(candidates, key=lambda x:x[1]) # optimal based on heuristic function\n",
    "    \n",
    "    for i in range(1, NUM_CANDIDATES):\n",
    "        for candidate in candidates[i:-1]:\n",
    "            if candidate > max(candidates[0:i]):\n",
    "                solution_found_count[i] += 1\n",
    "                if candidate == optimal_candidate:\n",
    "                    optimal_solution_found_count[i] += 1\n",
    "\n",
    "                break\n",
    "\n",
    "plt.plot(optimal_solution_found_count, label='Normal Optimal Solutions')\n",
    "plt.title(\"General Stopping Optimum Threshold\")\n",
    "plt.legend()\n",
    "plt.show()\n",
    "\n",
    "threshold = find_peak(optimal_solution_found_count)[0] / NUM_CANDIDATES"
   ]
  }
 ],
 "metadata": {
  "kernelspec": {
   "display_name": "venv",
   "language": "python",
   "name": "python3"
  },
  "language_info": {
   "codemirror_mode": {
    "name": "ipython",
    "version": 3
   },
   "file_extension": ".py",
   "mimetype": "text/x-python",
   "name": "python",
   "nbconvert_exporter": "python",
   "pygments_lexer": "ipython3",
   "version": "3.11.1"
  },
  "orig_nbformat": 4
 },
 "nbformat": 4,
 "nbformat_minor": 2
}
