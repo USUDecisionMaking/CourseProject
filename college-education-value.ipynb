{
 "cells": [
  {
   "cell_type": "code",
   "execution_count": 1,
   "metadata": {},
   "outputs": [
    {
     "name": "stderr",
     "output_type": "stream",
     "text": [
      "c:\\Users\\Adam\\Documents\\code\\school\\cs5060\\CourseProject\\utils.py:3: DtypeWarning: Columns (10,41,45,247) have mixed types. Specify dtype option on import or set low_memory=False.\n",
      "  COLLEGES: list[str] = (data := pd.read_csv(f\"data/filtered-data.csv\")).groupby(\"INSTNM\").agg(\"mean\", numeric_only=True).reset_index()[[\"INSTNM\", \"COSTT4_A\",\"SAT_AVG\"]].copy().dropna(axis=\"rows\").sample(100, random_state=0)[\"INSTNM\"].unique()\n"
     ]
    }
   ],
   "source": [
    "import numpy as np\n",
    "import math\n",
    "import matplotlib as mpl\n",
    "import matplotlib.pyplot as plt\n",
    "import pandas as pd\n",
    "from typing import Any\n",
    "from tqdm import tqdm\n",
    "import os\n",
    "\n",
    "from utils import COLLEGES, heuristic_function"
   ]
  },
  {
   "cell_type": "code",
   "execution_count": 2,
   "metadata": {},
   "outputs": [],
   "source": [
    "_backend = mpl.get_backend()"
   ]
  },
  {
   "cell_type": "code",
   "execution_count": 3,
   "metadata": {},
   "outputs": [],
   "source": [
    "class MarketMotion:\n",
    "    def __init__(self, initial_price: float, drift: float, volatility: float, timestep: float, duration: float) -> None:\n",
    "        self._initial_price = initial_price\n",
    "        self._current_price = self._initial_price\n",
    "\n",
    "        self._drift = drift\n",
    "        self._volatility = volatility\n",
    "\n",
    "        self._timestep = timestep\n",
    "        self._duration = duration\n",
    "        self._current_time = 0\n",
    "\n",
    "        self._prices = np.empty(int(self._duration / self._timestep))\n",
    "\n",
    "    def step(self) -> \"MarketMotion\":\n",
    "        self._step()\n",
    "        self._current_time += 1\n",
    "\n",
    "        return self\n",
    "\n",
    "    def run(self, duration: float | None = None) -> \"MarketMotion\":\n",
    "        if duration is None:\n",
    "            for _ in range(int((self._duration - (self._current_time * self._timestep)) / self._timestep)):\n",
    "                self.step()\n",
    "\n",
    "        return self\n",
    "\n",
    "    def get_time_series(self) -> np.ndarray[np.float64]:\n",
    "        return self._prices\n",
    "\n",
    "    def _step(self) -> None:\n",
    "        raise NotImplementedError\n"
   ]
  },
  {
   "cell_type": "code",
   "execution_count": 4,
   "metadata": {},
   "outputs": [],
   "source": [
    "class Payoff:\n",
    "    def __init__(self, strike_price: float) -> None:\n",
    "        self._strike = strike_price\n",
    "        \n",
    "    def get_payoff(self, stock_price_path: list[float]) -> float:\n",
    "        raise NotImplementedError"
   ]
  },
  {
   "cell_type": "code",
   "execution_count": 5,
   "metadata": {},
   "outputs": [],
   "source": [
    "def run_sim(motion, *motion_args, motion_kwargs: dict[str, Any], payoffs: dict[str, Payoff] = {}, risk_free_rate: float = 0.01, number_simulations: int = 5000, plot: bool = True, college: str = \"\") -> tuple[float, list[float]]:\n",
    "    plt.ioff()\n",
    "    mpl.use(\"AGG\")\n",
    "    if 'output' not in os.listdir():\n",
    "        os.mkdir(\"output/\")\n",
    "        \n",
    "    price_paths = [motion(*motion_args, **motion_kwargs).run().get_time_series()\n",
    "                   for _ in range(number_simulations)]\n",
    "\n",
    "    call_payoffs = {\n",
    "        key: [] for key in list(payoffs.keys())\n",
    "    }\n",
    "\n",
    "    for price_path in price_paths:\n",
    "        for key in list(payoffs.keys()):\n",
    "            call_payoffs[key].append(payoffs[key].get_payoff(\n",
    "                price_path) / (1 + risk_free_rate))\n",
    "    fig = plt.figure()\n",
    "    for price_path in price_paths:\n",
    "        plt.plot(price_path)\n",
    "\n",
    "    # plt.xlabel(\"Day\")\n",
    "    plt.ylabel(\"Price\")\n",
    "\n",
    "    v1 = f\"Average Value: {(avg_value := np.array(price_paths)[:, -1].mean())}\"\n",
    "    v2 = f\"Max Value: {np.array(price_paths)[:, -1].max()}\"\n",
    "    v3 = f\"Min Value: {np.array(price_paths)[:, -1].min()}\"\n",
    "    \n",
    "    if plot:\n",
    "        print(v1)\n",
    "        print(v2)\n",
    "        print(v3)\n",
    "\n",
    "    title = f\"{college}\\n{v1}\\n{v2}\\n{v3}\\n\"\n",
    "\n",
    "    payoff_results = []\n",
    "    for key in list(payoffs.keys()):\n",
    "        _price = np.array(call_payoffs[key]).mean()\n",
    "\n",
    "        if plot:\n",
    "            print(f\"{key}: {_price}\")\n",
    "            \n",
    "        title += f\"{key}: {_price}\\n\"\n",
    "        payoff_results.append(_price)\n",
    "\n",
    "\n",
    "    plt.title(title)\n",
    "\n",
    "    fig.tight_layout()\n",
    "    fig.savefig(f\"output/{college}.png\")\n",
    "    if plot:\n",
    "        # Plot the set of generated sample paths\n",
    "        plt.show()\n",
    "    \n",
    "    mpl.use(_backend)\n",
    "    return avg_value, payoff_results\n"
   ]
  },
  {
   "attachments": {},
   "cell_type": "markdown",
   "metadata": {},
   "source": [
    "# ACTUAL MOTIONS AND PAYOFFS"
   ]
  },
  {
   "cell_type": "code",
   "execution_count": 6,
   "metadata": {},
   "outputs": [],
   "source": [
    "#initial price is determined by heuristic function\n",
    "\n",
    "class CollegeEducationMotion(MarketMotion):\n",
    "    #can be played around with\n",
    "    DRIFT = .03\n",
    "    VOLATILITY = .01\n",
    "    \n",
    "\n",
    "    def __init__(self, initial_price: float) -> None:\n",
    "        super().__init__(\n",
    "            initial_price, \n",
    "            CollegeEducationMotion.DRIFT, \n",
    "            CollegeEducationMotion.VOLATILITY, \n",
    "            1, #month\n",
    "            4 * 12 #12 months for 4 years\n",
    "        )\n",
    "\n",
    "    def _step(self) -> None:\n",
    "        dWt = np.random.normal(0, math.sqrt(self._timestep))  # Brownian motion, change this to change the motion\n",
    "\n",
    "\n",
    "        dYt = (self._drift * self._timestep) + \\\n",
    "            (self._volatility * dWt)  # Change in price\n",
    "\n",
    "        self._current_price *= (1 + dYt)  # Add the change to the current price\n",
    "        # Append new price to series\n",
    "        self._prices[self._current_time] = self._current_price"
   ]
  },
  {
   "cell_type": "code",
   "execution_count": 7,
   "metadata": {},
   "outputs": [],
   "source": [
    "class Graduation_Payoff(Payoff):\n",
    "    def __init__(self, strike_price: float) -> None:\n",
    "        super().__init__(strike_price)\n",
    "\n",
    "    def get_payoff(self, stock_price_path: list[float]) -> float:\n",
    "        stock_price = stock_price_path[-1]\n",
    "\n",
    "        if stock_price > self._strike:\n",
    "            return stock_price - self._strike\n",
    "        else:\n",
    "            return 0"
   ]
  },
  {
   "attachments": {},
   "cell_type": "markdown",
   "metadata": {},
   "source": [
    "# Run the simulations for 100 colleges"
   ]
  },
  {
   "cell_type": "code",
   "execution_count": 8,
   "metadata": {},
   "outputs": [
    {
     "name": "stderr",
     "output_type": "stream",
     "text": [
      "Running simulation for: McNeese State University: 100%|██████████| 100/100 [06:31<00:00,  3.91s/it]                          \n"
     ]
    }
   ],
   "source": [
    "results = []\n",
    "for college in (pbar := tqdm(COLLEGES)):\n",
    "    pbar.set_description(f\"Running simulation for: {college}\")\n",
    "    intial_education_value, desired_education_value = heuristic_function(college)\n",
    "    avg_price, payoffs = run_sim(\n",
    "        CollegeEducationMotion,\n",
    "        motion_kwargs={\n",
    "            \"initial_price\" : intial_education_value \n",
    "        },\n",
    "        payoffs={\n",
    "            \"Education Payoff\": Graduation_Payoff(strike_price=desired_education_value)\n",
    "        },\n",
    "        college=college,\n",
    "        plot=False\n",
    "    )\n",
    "    results.append((college, np.mean(payoffs), avg_price))"
   ]
  },
  {
   "cell_type": "code",
   "execution_count": 9,
   "metadata": {},
   "outputs": [
    {
     "name": "stdout",
     "output_type": "stream",
     "text": [
      "Best College By Average Simulation End Education Value: Yale University\n",
      "Best College By Payoff End Education Value: Tufts University\n"
     ]
    }
   ],
   "source": [
    "sorted_avg = sorted(results, key=lambda r: r[2], reverse=True)\n",
    "sorted_payoff = sorted(results, key=lambda r: r[1], reverse=True)\n",
    "\n",
    "print(f\"Best College By Average Simulation End Education Value: {sorted_avg[0][0]}\")\n",
    "print(f\"Best College By Payoff End Education Value: {sorted_payoff[0][0]}\")"
   ]
  }
 ],
 "metadata": {
  "kernelspec": {
   "display_name": "Python 3",
   "language": "python",
   "name": "python3"
  },
  "language_info": {
   "codemirror_mode": {
    "name": "ipython",
    "version": 3
   },
   "file_extension": ".py",
   "mimetype": "text/x-python",
   "name": "python",
   "nbconvert_exporter": "python",
   "pygments_lexer": "ipython3",
   "version": "3.11.2"
  },
  "orig_nbformat": 4
 },
 "nbformat": 4,
 "nbformat_minor": 2
}
