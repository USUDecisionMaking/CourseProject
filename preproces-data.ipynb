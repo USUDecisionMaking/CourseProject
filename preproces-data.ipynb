{
 "cells": [
  {
   "cell_type": "code",
   "execution_count": 19,
   "metadata": {},
   "outputs": [
    {
     "name": "stdout",
     "output_type": "stream",
     "text": [
      "UNITID                      int64\n",
      "OPEID                     float64\n",
      "OPEID6                    float64\n",
      "INSTNM                     object\n",
      "CITY                       object\n",
      "                           ...   \n",
      "MD_EARN_WNE_INC3_P10      float64\n",
      "MD_EARN_WNE_INDEP1_P10    float64\n",
      "MD_EARN_WNE_INDEP0_P10    float64\n",
      "MD_EARN_WNE_MALE0_P10     float64\n",
      "MD_EARN_WNE_MALE1_P10     float64\n",
      "Length: 2989, dtype: object\n"
     ]
    }
   ],
   "source": [
    "import pandas as pd\n",
    "\n",
    "data = pd.read_csv(\"data/Most-Recent-Cohorts-Institution.csv\", low_memory=False)\n",
    "print(data.dtypes)"
   ]
  },
  {
   "cell_type": "code",
   "execution_count": 20,
   "metadata": {},
   "outputs": [],
   "source": [
    "cols_to_keep = [\"UNITID\", \"OPEID\", \"OPEID6\", \"P_EARN_MDN_HI_1YR\"]\n",
    "data_sections_to_keep = [\"school\", \"admissions\", \"cost\", \"earnings\"]"
   ]
  },
  {
   "cell_type": "code",
   "execution_count": 21,
   "metadata": {},
   "outputs": [],
   "source": [
    "lines = []\n",
    "with open(\"data/data.yaml\") as yml:\n",
    "    lines = yml.readlines()\n",
    "\n",
    "for i in range(len(lines)):\n",
    "    lines[i] = lines[i].strip()"
   ]
  },
  {
   "cell_type": "code",
   "execution_count": 22,
   "metadata": {},
   "outputs": [],
   "source": [
    "for ds in data_sections_to_keep:\n",
    "    for i,line in enumerate(lines):\n",
    "        if line.startswith(ds):\n",
    "            cols_to_keep.append(lines[i+1].split(\":\")[1].strip())"
   ]
  },
  {
   "cell_type": "code",
   "execution_count": 23,
   "metadata": {},
   "outputs": [
    {
     "name": "stdout",
     "output_type": "stream",
     "text": [
      "['UNITID', 'OPEID', 'OPEID6', 'P_EARN_MDN_HI_1YR', 'INSTNM', 'CITY', 'STABBR', 'ZIP', 'ACCREDAGENCY', 'INSTURL', 'NPCURL', 'SCH_DEG', 'HCM2', 'MAIN', 'NUMBRANCH', 'PREDDEG', 'HIGHDEG', 'CONTROL', 'ST_FIPS', 'REGION', 'LOCALE', 'LOCALE2', 'CCBASIC', 'CCUGPROF', 'CCSIZSET', 'HBCU', 'PBI', 'ANNHI', 'TRIBAL', 'AANAPII', 'HSI', 'NANTI', 'MENONLY', 'WOMENONLY', 'RELAFFIL', 'DISTANCEONLY', 'CURROPER', 'TUITFTE', 'INEXPFTE', 'AVGFACSAL', 'PFTFAC', 'ALIAS', 'ICLEVEL', 'OPENADMP', 'ACCREDCODE', 'T4APPROVALDATE', 'SCHTYPE', 'OPEFLAG', 'ENDOWBEGIN', 'ENDOWEND', 'DOLPROVIDER', 'SEARCH_STRING', 'ADM_RATE', 'ADM_RATE_ALL', 'SATVR25', 'SATVR75', 'SATMT25', 'SATMT75', 'SATWR25', 'SATWR75', 'SATVRMID', 'SATMTMID', 'SATWRMID', 'ACTCM25', 'ACTCM75', 'ACTEN25', 'ACTEN75', 'ACTMT25', 'ACTMT75', 'ACTWR25', 'ACTWR75', 'ACTCMMID', 'ACTENMID', 'ACTMTMID', 'ACTWRMID', 'SAT_AVG', 'SAT_AVG_ALL', 'ADMCON7', 'ADM_RATE or OPENADMP', 'NPT4_PUB', 'NPT4_PRIV', 'NPT4_PROG', 'NPT4_OTHER', 'NPT41_PUB', 'NPT42_PUB', 'NPT43_PUB', 'NPT44_PUB', 'NPT45_PUB', 'NPT41_PRIV', 'NPT42_PRIV', 'NPT43_PRIV', 'NPT44_PRIV', 'NPT45_PRIV', 'NPT41_PROG', 'NPT42_PROG', 'NPT43_PROG', 'NPT44_PROG', 'NPT45_PROG', 'NPT41_OTHER', 'NPT42_OTHER', 'NPT43_OTHER', 'NPT44_OTHER', 'NPT45_OTHER', 'NPT4_048_PUB', 'NPT4_048_PRIV', 'NPT4_048_PROG', 'NPT4_048_OTHER', 'NPT4_3075_PUB', 'NPT4_3075_PRIV', 'NPT4_75UP_PUB', 'NPT4_75UP_PRIV', 'NPT4_3075_PROG', 'NPT4_3075_OTHER', 'NPT4_75UP_PROG', 'NPT4_75UP_OTHER', 'NUM4_PUB', 'NUM4_PRIV', 'NUM4_PROG', 'NUM4_OTHER', 'NUM41_PUB', 'NUM42_PUB', 'NUM43_PUB', 'NUM44_PUB', 'NUM45_PUB', 'NUM41_PRIV', 'NUM42_PRIV', 'NUM43_PRIV', 'NUM44_PRIV', 'NUM45_PRIV', 'NUM41_PROG', 'NUM42_PROG', 'NUM43_PROG', 'NUM44_PROG', 'NUM45_PROG', 'NUM41_OTHER', 'NUM42_OTHER', 'NUM43_OTHER', 'NUM44_OTHER', 'NUM45_OTHER', 'COSTT4_A', 'COSTT4_P', 'TUITIONFEE_IN', 'TUITIONFEE_OUT', 'TUITIONFEE_PROG', 'CIPTFBS1', 'CIPTFBS2', 'CIPTFBS3', 'CIPTFBS4', 'CIPTFBS5', 'CIPTFBS6', 'CIPTFBSANNUAL1', 'CIPTFBSANNUAL2', 'CIPTFBSANNUAL3', 'CIPTFBSANNUAL4', 'CIPTFBSANNUAL5', 'CIPTFBSANNUAL6', 'BOOKSUPPLY', 'ROOMBOARD_ON', 'OTHEREXPENSE_ON', 'ROOMBOARD_OFF', 'OTHEREXPENSE_OFF', 'OTHEREXPENSE_FAM', 'MDCOST_PD', 'MDCOST_ALL', 'NPT4_PUB or NPT4_PRIV', 'NPT4_048_PUB or NPT4_048_PRIV or NPT4_048_PROG or NPT4_048_OTHER', 'NPT41_PUB or NPT41_PRIV or NPT41_PROG or NPT41_OTHER', 'NPT42_PUB or NPT42_PRIV or NPT42_PROG or NPT42_OTHER', 'NPT4_3075_PUB or NPT4_3075_PRIV or NPT4_3075_PROG or NPT4_3075_OTHER', 'NPT43_PUB or NPT43_PRIV or NPT43_PROG or NPT43_OTHER', 'NPT44_PUB or NPT44_PRIV or NPT44_PROG or NPT44_OTHER', 'NPT4_75UP_PUB or NPT4_75UP_PRIV or NPT4_75UP_PROG or NPT4_75UP_OTHER', 'NPT45_PUB or NPT45_PRIV or NPT45_PROG or NPT45_OTHER', 'COUNT_ED', 'COUNT_NWNE_P10', 'COUNT_WNE_P10', 'MN_EARN_WNE_P10', 'MD_EARN_WNE_P10', 'PCT10_EARN_WNE_P10', 'PCT25_EARN_WNE_P10', 'PCT75_EARN_WNE_P10', 'PCT90_EARN_WNE_P10', 'SD_EARN_WNE_P10', 'COUNT_WNE_INC1_P10', 'COUNT_WNE_INC2_P10', 'COUNT_WNE_INC3_P10', 'COUNT_WNE_INDEP0_INC1_P10', 'COUNT_WNE_INDEP0_P10', 'COUNT_WNE_INDEP1_P10', 'COUNT_WNE_MALE0_P10', 'COUNT_WNE_MALE1_P10', 'GT_25K_P10', 'GT_28K_P10', 'MN_EARN_WNE_INC1_P10', 'MN_EARN_WNE_INC2_P10', 'MN_EARN_WNE_INC3_P10', 'MN_EARN_WNE_INDEP0_INC1_P10', 'MN_EARN_WNE_INDEP0_P10', 'MN_EARN_WNE_INDEP1_P10', 'MN_EARN_WNE_MALE0_P10', 'MN_EARN_WNE_MALE1_P10', 'COUNT_NWNE_P6', 'COUNT_WNE_P6', 'MN_EARN_WNE_P6', 'MD_EARN_WNE_P6', 'PCT10_EARN_WNE_P6', 'PCT25_EARN_WNE_P6', 'PCT75_EARN_WNE_P6', 'PCT90_EARN_WNE_P6', 'SD_EARN_WNE_P6', 'COUNT_WNE_INC1_P6', 'COUNT_WNE_INC2_P6', 'COUNT_WNE_INC3_P6', 'COUNT_WNE_INDEP0_INC1_P6', 'COUNT_WNE_INDEP0_P6', 'COUNT_WNE_INDEP1_P6', 'COUNT_WNE_MALE0_P6', 'COUNT_WNE_MALE1_P6', 'GT_25K_P6', 'GT_28K_P6', 'MN_EARN_WNE_INC1_P6', 'MN_EARN_WNE_INC2_P6', 'MN_EARN_WNE_INC3_P6', 'MN_EARN_WNE_INDEP0_INC1_P6', 'MN_EARN_WNE_INDEP0_P6', 'MN_EARN_WNE_INDEP1_P6', 'MN_EARN_WNE_MALE0_P6', 'MN_EARN_WNE_MALE1_P6', 'COUNT_NWNE_P7', 'COUNT_WNE_P7', 'MN_EARN_WNE_P7', 'SD_EARN_WNE_P7', 'GT_25K_P7', 'COUNT_NWNE_P8', 'COUNT_WNE_P8', 'MN_EARN_WNE_P8', 'MD_EARN_WNE_P8', 'PCT10_EARN_WNE_P8', 'PCT25_EARN_WNE_P8', 'PCT75_EARN_WNE_P8', 'PCT90_EARN_WNE_P8', 'SD_EARN_WNE_P8', 'GT_25K_P8', 'GT_28K_P8', 'COUNT_NWNE_P9', 'COUNT_WNE_P9', 'MN_EARN_WNE_P9', 'SD_EARN_WNE_P9', 'GT_25K_P9', 'COUNT_NWNE_3YR', 'COUNT_WNE_3YR', 'CNTOVER150_3YR', 'MDEARN_PD', 'MDEARN_ALL', 'COUNT_NWNE_1YR', 'COUNT_WNE_1YR', 'CNTOVER150_1YR', 'GT_THRESHOLD_P6', 'GT_THRESHOLD_P6_SUPP', 'MD_EARN_WNE_INC1_P6', 'MD_EARN_WNE_INC2_P6', 'MD_EARN_WNE_INC3_P6', 'MD_EARN_WNE_INDEP1_P6', 'MD_EARN_WNE_INDEP0_P6', 'MD_EARN_WNE_MALE0_P6', 'MD_EARN_WNE_MALE1_P6', 'GT_THRESHOLD_P8', 'COUNT_WNE_INC1_P8', 'MD_EARN_WNE_INC1_P8', 'COUNT_WNE_INC2_P8', 'MD_EARN_WNE_INC2_P8', 'COUNT_WNE_INC3_P8', 'MD_EARN_WNE_INC3_P8', 'COUNT_WNE_INDEP1_P8', 'MD_EARN_WNE_INDEP1_P8', 'COUNT_WNE_INDEP0_P8', 'MD_EARN_WNE_INDEP0_P8', 'COUNT_WNE_MALE0_P8', 'MD_EARN_WNE_MALE0_P8', 'COUNT_WNE_MALE1_P8', 'MD_EARN_WNE_MALE1_P8', 'GT_THRESHOLD_P10', 'MD_EARN_WNE_INC1_P10', 'MD_EARN_WNE_INC2_P10', 'MD_EARN_WNE_INC3_P10', 'MD_EARN_WNE_INDEP1_P10', 'MD_EARN_WNE_INDEP0_P10', 'MD_EARN_WNE_MALE0_P10', 'MD_EARN_WNE_MALE1_P10']\n",
      "Removed: P_EARN_MDN_HI_1YR\n",
      "Removed: SEARCH_STRING\n",
      "Removed: ADM_RATE or OPENADMP\n",
      "Removed: NPT4_PUB or NPT4_PRIV\n",
      "Removed: NPT4_048_PUB or NPT4_048_PRIV or NPT4_048_PROG or NPT4_048_OTHER\n",
      "Removed: NPT41_PUB or NPT41_PRIV or NPT41_PROG or NPT41_OTHER\n",
      "Removed: NPT42_PUB or NPT42_PRIV or NPT42_PROG or NPT42_OTHER\n",
      "Removed: NPT4_3075_PUB or NPT4_3075_PRIV or NPT4_3075_PROG or NPT4_3075_OTHER\n",
      "Removed: NPT43_PUB or NPT43_PRIV or NPT43_PROG or NPT43_OTHER\n",
      "Removed: NPT44_PUB or NPT44_PRIV or NPT44_PROG or NPT44_OTHER\n",
      "Removed: NPT4_75UP_PUB or NPT4_75UP_PRIV or NPT4_75UP_PROG or NPT4_75UP_OTHER\n",
      "Removed: NPT45_PUB or NPT45_PRIV or NPT45_PROG or NPT45_OTHER\n"
     ]
    }
   ],
   "source": [
    "print(cols_to_keep)\n",
    "to_drop = []\n",
    "for col in cols_to_keep:\n",
    "    if col not in data.columns:\n",
    "        to_drop.append(col)\n",
    "\n",
    "for v in to_drop:\n",
    "    print(f\"Removed: {v}\")\n",
    "    cols_to_keep.remove(v)\n",
    "\n",
    "for col in cols_to_keep:\n",
    "    assert col in data.columns, f\"{col} not found\""
   ]
  },
  {
   "cell_type": "code",
   "execution_count": 24,
   "metadata": {},
   "outputs": [],
   "source": [
    "new_data = data[cols_to_keep].copy()\n",
    "new_data.to_csv(\"data/filtered-data.csv\", mode=\"w+\")"
   ]
  }
 ],
 "metadata": {
  "kernelspec": {
   "display_name": "Python 3",
   "language": "python",
   "name": "python3"
  },
  "language_info": {
   "codemirror_mode": {
    "name": "ipython",
    "version": 3
   },
   "file_extension": ".py",
   "mimetype": "text/x-python",
   "name": "python",
   "nbconvert_exporter": "python",
   "pygments_lexer": "ipython3",
   "version": "3.11.2"
  },
  "orig_nbformat": 4
 },
 "nbformat": 4,
 "nbformat_minor": 2
}
