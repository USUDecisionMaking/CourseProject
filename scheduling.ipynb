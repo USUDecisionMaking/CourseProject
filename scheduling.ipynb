{
 "cells": [
  {
   "cell_type": "code",
   "execution_count": 1,
   "metadata": {},
   "outputs": [
    {
     "name": "stderr",
     "output_type": "stream",
     "text": [
      "d:\\koles\\sw_projects\\USU\\cs5060\\CourseProject\\utils.py:3: DtypeWarning: Columns (10,41,45,247) have mixed types. Specify dtype option on import or set low_memory=False.\n",
      "  COLLEGES: list[str] = (data := pd.read_csv(f\"data/filtered-data.csv\")).groupby(\"INSTNM\").agg(\"mean\", numeric_only=True).reset_index()[[\"INSTNM\", \"COSTT4_A\",\"SAT_AVG\"]].copy().dropna(axis=\"rows\").sample(100, random_state=0)[\"INSTNM\"].unique()\n"
     ]
    }
   ],
   "source": [
    "import pandas as pd\n",
    "import utils"
   ]
  },
  {
   "cell_type": "code",
   "execution_count": 6,
   "metadata": {},
   "outputs": [],
   "source": [
    "def schedule_by_priority(college_values: list[tuple[str, float, float]]) -> pd.DataFrame:\n",
    "    by_initial = list(college_values)\n",
    "    by_initial.sort(key=lambda t: t[1])\n",
    "\n",
    "    by_projected = list(college_values)\n",
    "    by_projected.sort(key=lambda t: t[2])\n",
    "\n",
    "    data = [[initial[0], projected[0]] for initial, projected in zip(by_initial, by_projected)]\n",
    "    \n",
    "    df = pd.DataFrame(data=data, columns=['By Initial Value', 'By Projected Value'])\n",
    "    return df\n",
    "\n",
    "\n",
    "def demo():\n",
    "    raise NotImplementedError('bob')"
   ]
  },
  {
   "cell_type": "code",
   "execution_count": 7,
   "metadata": {},
   "outputs": [
    {
     "ename": "NotImplementedError",
     "evalue": "bob",
     "output_type": "error",
     "traceback": [
      "\u001b[1;31m---------------------------------------------------------------------------\u001b[0m",
      "\u001b[1;31mNotImplementedError\u001b[0m                       Traceback (most recent call last)",
      "Cell \u001b[1;32mIn[7], line 1\u001b[0m\n\u001b[1;32m----> 1\u001b[0m demo()\n",
      "Cell \u001b[1;32mIn[6], line 15\u001b[0m, in \u001b[0;36mdemo\u001b[1;34m()\u001b[0m\n\u001b[0;32m     14\u001b[0m \u001b[39mdef\u001b[39;00m \u001b[39mdemo\u001b[39m():\n\u001b[1;32m---> 15\u001b[0m     \u001b[39mraise\u001b[39;00m \u001b[39mNotImplementedError\u001b[39;00m(\u001b[39m'\u001b[39m\u001b[39mbob\u001b[39m\u001b[39m'\u001b[39m)\n",
      "\u001b[1;31mNotImplementedError\u001b[0m: bob"
     ]
    }
   ],
   "source": [
    "demo()"
   ]
  }
 ],
 "metadata": {
  "kernelspec": {
   "display_name": "Python 3",
   "language": "python",
   "name": "python3"
  },
  "language_info": {
   "codemirror_mode": {
    "name": "ipython",
    "version": 3
   },
   "file_extension": ".py",
   "mimetype": "text/x-python",
   "name": "python",
   "nbconvert_exporter": "python",
   "pygments_lexer": "ipython3",
   "version": "3.11.1"
  },
  "orig_nbformat": 4
 },
 "nbformat": 4,
 "nbformat_minor": 2
}
