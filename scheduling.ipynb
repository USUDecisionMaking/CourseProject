{
 "cells": [
  {
   "attachments": {},
   "cell_type": "markdown",
   "metadata": {},
   "source": [
    "# Scheduling Algorithm"
   ]
  },
  {
   "cell_type": "code",
   "execution_count": null,
   "metadata": {},
   "outputs": [],
   "source": [
    "import pandas as pd\n",
    "import os\n",
    "from utils import COLLEGES, heuristic_function"
   ]
  },
  {
   "cell_type": "markdown",
   "metadata": {},
   "source": [
    "## Read Data"
   ]
  },
  {
   "cell_type": "code",
   "execution_count": null,
   "metadata": {},
   "outputs": [],
   "source": [
    "data = pd.read_csv('data/filtered-data.csv', low_memory=False)"
   ]
  },
  {
   "attachments": {},
   "cell_type": "markdown",
   "metadata": {},
   "source": [
    "## Define Scheduling Algorithm\n",
    "\n",
    "The below algorithm is a \"priority\" scheduling algorithm. The priority is determined by the value of the college as determined by the heuristic function defined in [utils.py](utils.py)."
   ]
  },
  {
   "cell_type": "code",
   "execution_count": null,
   "metadata": {},
   "outputs": [],
   "source": [
    "def schedule_by_priority(colleges: list[str]) -> pd.DataFrame:\n",
    "    by_value = [[college, heuristic_function(college, data)[0]] for college in colleges]\n",
    "    by_value.sort(key=lambda e: e[1], reverse=True)\n",
    "\n",
    "    # TODO: Add a second sort based on projected value (CollegeEducationMotion)?\n",
    "\n",
    "    values = [college_data[0] for college_data in by_value]\n",
    "    return pd.DataFrame(data=values, columns=['College (By Initial Value)'])"
   ]
  },
  {
   "attachments": {},
   "cell_type": "markdown",
   "metadata": {},
   "source": [
    "Other algorithms we may want to implement in the future:\n",
    "\n",
    "* An algorithm that's based on the travel distance to visit a college. This would be analogous to a \"shortest job first\" algorithm.\n",
    "\n",
    "* Similar to \"shortest job first\", but tailored to visiting the colleges all at once (without returning home) in the most efficient way possible. Note this would basically be the [travelling salesman problem](https://en.wikipedia.org/wiki/Travelling_salesman_problem)."
   ]
  },
  {
   "attachments": {},
   "cell_type": "markdown",
   "metadata": {},
   "source": [
    "## Run Scheduling Algorithm"
   ]
  },
  {
   "cell_type": "code",
   "execution_count": null,
   "metadata": {},
   "outputs": [],
   "source": [
    "schedule = schedule_by_priority(COLLEGES)\n",
    "display(schedule)\n",
    "\n",
    "if not os.path.exists('output'):\n",
    "    os.mkdir('output')\n",
    "schedule.to_csv('output/schedule.csv')"
   ]
  }
 ],
 "metadata": {
  "kernelspec": {
   "display_name": "Python 3",
   "language": "python",
   "name": "python3"
  },
  "language_info": {
   "codemirror_mode": {
    "name": "ipython",
    "version": 3
   },
   "file_extension": ".py",
   "mimetype": "text/x-python",
   "name": "python",
   "nbconvert_exporter": "python",
   "pygments_lexer": "ipython3",
   "version": "3.11.1"
  },
  "orig_nbformat": 4
 },
 "nbformat": 4,
 "nbformat_minor": 2
}
